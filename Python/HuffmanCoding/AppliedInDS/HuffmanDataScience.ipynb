{
 "cells": [
  {
   "cell_type": "markdown",
   "metadata": {},
   "source": [
    "## Huffman Coding applied in Data Science"
   ]
  },
  {
   "cell_type": "markdown",
   "metadata": {},
   "source": [
    "#### by Jorge Agustín Erosa Herrera and Saúl Luna Estévez"
   ]
  },
  {
   "cell_type": "markdown",
   "metadata": {},
   "source": [
    "##### 1. Importing necessary libraries <a class=\"anchor\" id=\"import-libraries\"></a>"
   ]
  },
  {
   "cell_type": "code",
   "execution_count": 1,
   "metadata": {},
   "outputs": [],
   "source": [
    "import pandas as pd\n",
    "import numpy as np"
   ]
  },
  {
   "cell_type": "markdown",
   "metadata": {},
   "source": [
    "##### 2. Opening the file <a class=\"anchor\" id=\"open-file\"></a>"
   ]
  },
  {
   "cell_type": "code",
   "execution_count": 2,
   "metadata": {},
   "outputs": [
    {
     "name": "stdout",
     "output_type": "stream",
     "text": [
      "English\n",
      "Start of text: The Beginning In the beginning God created the heavens and the earth. Now the earth was formless and\n",
      "End of text: l that he had made, and it was very good. And there was evening, and there was morning—the sixth day\n",
      "Spanish\n",
      "Start of text: La creación  En el principio creó Dios los cielos y la tierra.  Y la tierra estaba desordenada y vac\n",
      "End of text: lo que había hecho, y he aquí que era bueno en gran manera. Y fue la tarde y la mañana el día sexto.\n",
      "Greek\n",
      "Start of text: ἐν ἀρχῇ ἐποίησεν ὁ θεὸς τὸν οὐρανὸν καὶ τὴν γῆν ἡ δὲ γῆ ἦν ἀόρατος καὶ ἀκατασκεύαστος καὶ σκότος ἐπά\n",
      "End of text:  εἶδεν ὁ θεὸς τὰ πάντα ὅσα ἐποίησεν καὶ ἰδοὺ καλὰ λίαν καὶ ἐγένετο ἑσπέρα καὶ ἐγένετο πρωί ἡμέρα ἕκτ\n"
     ]
    }
   ],
   "source": [
    "print(\"English\")\n",
    "with open('GenesisE.txt','r') as file:\n",
    "    lines = []\n",
    "    for line in file:\n",
    "        lines.append(line[:-1])\n",
    "        \n",
    "originalE = \" \".join(lines)\n",
    "print(\"Start of text:\",originalE[:100])\n",
    "print(\"End of text:\", originalE[-100:])\n",
    "\n",
    "print(\"Spanish\")\n",
    "with open('GenesisS.txt','r') as file:\n",
    "    lines = []\n",
    "    for line in file:\n",
    "        lines.append(line[:-1])\n",
    "        \n",
    "originalS = \" \".join(lines)\n",
    "print(\"Start of text:\",originalS[:100])\n",
    "print(\"End of text:\", originalS[-100:])\n",
    "\n",
    "print(\"Greek\")\n",
    "with open('GenesisG.txt','r') as file:\n",
    "    lines = []\n",
    "    for line in file:\n",
    "        lines.append(line[:-1])\n",
    "        \n",
    "originalG = \" \".join(lines)\n",
    "print(\"Start of text:\",originalG[:100])\n",
    "print(\"End of text:\", originalG[-100:])"
   ]
  },
  {
   "cell_type": "markdown",
   "metadata": {},
   "source": [
    "##### 3. Setting up a starting dictionary of the frequency of found characters <a class=\"anchor\" id=\"freq-dict\"></a>"
   ]
  },
  {
   "cell_type": "code",
   "execution_count": 3,
   "metadata": {},
   "outputs": [
    {
     "name": "stdout",
     "output_type": "stream",
     "text": [
      "Per char frequency in English is :\n",
      " {'T': 5, 'h': 206, 'e': 404, ' ': 769, 'B': 3, 'g': 92, 'i': 186, 'n': 218, 'I': 3, 't': 326, 'b': 29, 'G': 30, 'o': 174, 'd': 221, 'c': 55, 'r': 181, 'a': 277, 'v': 57, 's': 173, '.': 45, 'N': 1, 'w': 63, 'f': 41, 'm': 50, 'l': 98, 'p': 18, 'y': 38, ',': 45, 'k': 31, 'u': 50, 'S': 4, 'A': 24, '“': 16, 'L': 8, '”': 16, '—': 9, ':': 3, '-': 2, 'H': 1, '[': 1, ']': 1, ';': 2, 'R': 1, 'x': 1}\n"
     ]
    }
   ],
   "source": [
    "#DataCamp, ehm I mean, UPY courses paying off\n",
    "freqE={key: originalE.count(key) for key in originalE}\n",
    "\n",
    "print (\"Per char frequency in English is :\\n {}\".format(str(freqE)))"
   ]
  },
  {
   "cell_type": "code",
   "execution_count": 4,
   "metadata": {},
   "outputs": [
    {
     "name": "stdout",
     "output_type": "stream",
     "text": [
      "Per char frequency in Spanish is :\n",
      " {'L': 3, 'a': 386, ' ': 771, 'c': 49, 'r': 189, 'e': 374, 'i': 160, 'ó': 24, 'n': 140, 'E': 6, 'l': 196, 'p': 44, 'o': 196, 'D': 36, 's': 261, 'y': 54, 't': 90, '.': 43, 'Y': 31, 'b': 58, 'd': 104, 'v': 30, 'í': 24, ',': 51, 'f': 22, 'z': 18, 'm': 57, 'u': 127, 'g': 41, 'j': 18, ':': 11, 'S': 1, ';': 10, 'q': 35, 'N': 1, 'h': 22, 'ñ': 13, 'H': 4, 'x': 10, 'C': 1, 'é': 14, 'J': 1, 'ú': 12, 'á': 8, 'T': 1, 'M': 1, 'P': 4, 'F': 2}\n"
     ]
    }
   ],
   "source": [
    "freqS={key: originalS.count(key) for key in originalS}\n",
    "\n",
    "print (\"Per char frequency in Spanish is :\\n {}\".format(str(freqS)))"
   ]
  },
  {
   "cell_type": "code",
   "execution_count": 5,
   "metadata": {},
   "outputs": [
    {
     "name": "stdout",
     "output_type": "stream",
     "text": [
      "Per char frequency in Greek is :\n",
      " {'ἐ': 65, 'ν': 273, ' ': 740, 'ἀ': 17, 'ρ': 115, 'χ': 26, 'ῇ': 1, 'π': 111, 'ο': 169, 'ί': 29, 'η': 48, 'σ': 122, 'ε': 209, 'ὁ': 34, 'θ': 64, 'ὸ': 49, 'ς': 161, 'τ': 288, 'ὐ': 28, 'α': 282, 'κ': 170, 'ὶ': 120, 'ὴ': 7, 'γ': 76, 'ῆ': 57, 'ἡ': 18, 'δ': 33, 'ὲ': 1, 'ἦ': 2, 'ό': 38, 'ύ': 13, 'ά': 42, 'ω': 71, 'β': 6, 'υ': 26, 'ῦ': 39, 'μ': 57, 'φ': 17, 'έ': 81, 'ὕ': 18, 'ἶ': 17, 'ή': 12, 'ῶ': 30, 'ὅ': 9, 'ι': 53, 'λ': 36, 'ώ': 9, 'ὰ': 44, 'ἑ': 17, 'ῳ': 1, 'ἔ': 7, 'ζ': 7, 'ὃ': 3, 'ὑ': 6, 'ἰ': 18, 'ὀ': 1, 'ξ': 12, 'ὤ': 1, 'ῖ': 10, '’': 5, 'ὗ': 2, 'ῷ': 9, 'ὺ': 9, 'ὥ': 2, 'ἄ': 5, 'ψ': 4, 'ᾶ': 6, 'ῴ': 1, 'ἃ': 1, 'ἕ': 2}\n"
     ]
    }
   ],
   "source": [
    "freqG={key: originalG.count(key) for key in originalG}\n",
    "\n",
    "print (\"Per char frequency in Greek is :\\n {}\".format(str(freqG)))"
   ]
  },
  {
   "cell_type": "code",
   "execution_count": 6,
   "metadata": {},
   "outputs": [
    {
     "data": {
      "text/html": [
       "<div>\n",
       "<style scoped>\n",
       "    .dataframe tbody tr th:only-of-type {\n",
       "        vertical-align: middle;\n",
       "    }\n",
       "\n",
       "    .dataframe tbody tr th {\n",
       "        vertical-align: top;\n",
       "    }\n",
       "\n",
       "    .dataframe thead th {\n",
       "        text-align: right;\n",
       "    }\n",
       "</style>\n",
       "<table border=\"1\" class=\"dataframe\">\n",
       "  <thead>\n",
       "    <tr style=\"text-align: right;\">\n",
       "      <th></th>\n",
       "      <th>Character</th>\n",
       "      <th>Frequency</th>\n",
       "    </tr>\n",
       "  </thead>\n",
       "  <tbody>\n",
       "    <tr>\n",
       "      <th>0</th>\n",
       "      <td>x</td>\n",
       "      <td>1</td>\n",
       "    </tr>\n",
       "    <tr>\n",
       "      <th>1</th>\n",
       "      <td>]</td>\n",
       "      <td>1</td>\n",
       "    </tr>\n",
       "    <tr>\n",
       "      <th>2</th>\n",
       "      <td>[</td>\n",
       "      <td>1</td>\n",
       "    </tr>\n",
       "    <tr>\n",
       "      <th>3</th>\n",
       "      <td>H</td>\n",
       "      <td>1</td>\n",
       "    </tr>\n",
       "    <tr>\n",
       "      <th>4</th>\n",
       "      <td>R</td>\n",
       "      <td>1</td>\n",
       "    </tr>\n",
       "  </tbody>\n",
       "</table>\n",
       "</div>"
      ],
      "text/plain": [
       "  Character  Frequency\n",
       "0         x          1\n",
       "1         ]          1\n",
       "2         [          1\n",
       "3         H          1\n",
       "4         R          1"
      ]
     },
     "metadata": {},
     "output_type": "display_data"
    },
    {
     "data": {
      "text/html": [
       "<div>\n",
       "<style scoped>\n",
       "    .dataframe tbody tr th:only-of-type {\n",
       "        vertical-align: middle;\n",
       "    }\n",
       "\n",
       "    .dataframe tbody tr th {\n",
       "        vertical-align: top;\n",
       "    }\n",
       "\n",
       "    .dataframe thead th {\n",
       "        text-align: right;\n",
       "    }\n",
       "</style>\n",
       "<table border=\"1\" class=\"dataframe\">\n",
       "  <thead>\n",
       "    <tr style=\"text-align: right;\">\n",
       "      <th></th>\n",
       "      <th>Character</th>\n",
       "      <th>Frequency</th>\n",
       "    </tr>\n",
       "  </thead>\n",
       "  <tbody>\n",
       "    <tr>\n",
       "      <th>39</th>\n",
       "      <td>d</td>\n",
       "      <td>221</td>\n",
       "    </tr>\n",
       "    <tr>\n",
       "      <th>40</th>\n",
       "      <td>a</td>\n",
       "      <td>277</td>\n",
       "    </tr>\n",
       "    <tr>\n",
       "      <th>41</th>\n",
       "      <td>t</td>\n",
       "      <td>326</td>\n",
       "    </tr>\n",
       "    <tr>\n",
       "      <th>42</th>\n",
       "      <td>e</td>\n",
       "      <td>404</td>\n",
       "    </tr>\n",
       "    <tr>\n",
       "      <th>43</th>\n",
       "      <td></td>\n",
       "      <td>769</td>\n",
       "    </tr>\n",
       "  </tbody>\n",
       "</table>\n",
       "</div>"
      ],
      "text/plain": [
       "   Character  Frequency\n",
       "39         d        221\n",
       "40         a        277\n",
       "41         t        326\n",
       "42         e        404\n",
       "43                  769"
      ]
     },
     "metadata": {},
     "output_type": "display_data"
    }
   ],
   "source": [
    "english=pd.DataFrame(data = {'Character': list(freqE.keys()),'Frequency': list(freqE.values())}).sort_values(by='Frequency').reset_index().drop(columns='index')\n",
    "display(english.head(),english.tail())"
   ]
  },
  {
   "cell_type": "code",
   "execution_count": 7,
   "metadata": {},
   "outputs": [
    {
     "data": {
      "text/html": [
       "<div>\n",
       "<style scoped>\n",
       "    .dataframe tbody tr th:only-of-type {\n",
       "        vertical-align: middle;\n",
       "    }\n",
       "\n",
       "    .dataframe tbody tr th {\n",
       "        vertical-align: top;\n",
       "    }\n",
       "\n",
       "    .dataframe thead th {\n",
       "        text-align: right;\n",
       "    }\n",
       "</style>\n",
       "<table border=\"1\" class=\"dataframe\">\n",
       "  <thead>\n",
       "    <tr style=\"text-align: right;\">\n",
       "      <th></th>\n",
       "      <th>Character</th>\n",
       "      <th>Frequency</th>\n",
       "    </tr>\n",
       "  </thead>\n",
       "  <tbody>\n",
       "    <tr>\n",
       "      <th>0</th>\n",
       "      <td>M</td>\n",
       "      <td>1</td>\n",
       "    </tr>\n",
       "    <tr>\n",
       "      <th>1</th>\n",
       "      <td>T</td>\n",
       "      <td>1</td>\n",
       "    </tr>\n",
       "    <tr>\n",
       "      <th>2</th>\n",
       "      <td>J</td>\n",
       "      <td>1</td>\n",
       "    </tr>\n",
       "    <tr>\n",
       "      <th>3</th>\n",
       "      <td>C</td>\n",
       "      <td>1</td>\n",
       "    </tr>\n",
       "    <tr>\n",
       "      <th>4</th>\n",
       "      <td>N</td>\n",
       "      <td>1</td>\n",
       "    </tr>\n",
       "  </tbody>\n",
       "</table>\n",
       "</div>"
      ],
      "text/plain": [
       "  Character  Frequency\n",
       "0         M          1\n",
       "1         T          1\n",
       "2         J          1\n",
       "3         C          1\n",
       "4         N          1"
      ]
     },
     "metadata": {},
     "output_type": "display_data"
    },
    {
     "data": {
      "text/html": [
       "<div>\n",
       "<style scoped>\n",
       "    .dataframe tbody tr th:only-of-type {\n",
       "        vertical-align: middle;\n",
       "    }\n",
       "\n",
       "    .dataframe tbody tr th {\n",
       "        vertical-align: top;\n",
       "    }\n",
       "\n",
       "    .dataframe thead th {\n",
       "        text-align: right;\n",
       "    }\n",
       "</style>\n",
       "<table border=\"1\" class=\"dataframe\">\n",
       "  <thead>\n",
       "    <tr style=\"text-align: right;\">\n",
       "      <th></th>\n",
       "      <th>Character</th>\n",
       "      <th>Frequency</th>\n",
       "    </tr>\n",
       "  </thead>\n",
       "  <tbody>\n",
       "    <tr>\n",
       "      <th>43</th>\n",
       "      <td>l</td>\n",
       "      <td>196</td>\n",
       "    </tr>\n",
       "    <tr>\n",
       "      <th>44</th>\n",
       "      <td>s</td>\n",
       "      <td>261</td>\n",
       "    </tr>\n",
       "    <tr>\n",
       "      <th>45</th>\n",
       "      <td>e</td>\n",
       "      <td>374</td>\n",
       "    </tr>\n",
       "    <tr>\n",
       "      <th>46</th>\n",
       "      <td>a</td>\n",
       "      <td>386</td>\n",
       "    </tr>\n",
       "    <tr>\n",
       "      <th>47</th>\n",
       "      <td></td>\n",
       "      <td>771</td>\n",
       "    </tr>\n",
       "  </tbody>\n",
       "</table>\n",
       "</div>"
      ],
      "text/plain": [
       "   Character  Frequency\n",
       "43         l        196\n",
       "44         s        261\n",
       "45         e        374\n",
       "46         a        386\n",
       "47                  771"
      ]
     },
     "metadata": {},
     "output_type": "display_data"
    }
   ],
   "source": [
    "spanish=pd.DataFrame(data = {'Character': list(freqS.keys()),'Frequency': list(freqS.values())}).sort_values(by='Frequency').reset_index().drop(columns='index')\n",
    "display(spanish.head(),spanish.tail())"
   ]
  },
  {
   "cell_type": "code",
   "execution_count": 8,
   "metadata": {},
   "outputs": [
    {
     "data": {
      "text/html": [
       "<div>\n",
       "<style scoped>\n",
       "    .dataframe tbody tr th:only-of-type {\n",
       "        vertical-align: middle;\n",
       "    }\n",
       "\n",
       "    .dataframe tbody tr th {\n",
       "        vertical-align: top;\n",
       "    }\n",
       "\n",
       "    .dataframe thead th {\n",
       "        text-align: right;\n",
       "    }\n",
       "</style>\n",
       "<table border=\"1\" class=\"dataframe\">\n",
       "  <thead>\n",
       "    <tr style=\"text-align: right;\">\n",
       "      <th></th>\n",
       "      <th>Character</th>\n",
       "      <th>Frequency</th>\n",
       "    </tr>\n",
       "  </thead>\n",
       "  <tbody>\n",
       "    <tr>\n",
       "      <th>0</th>\n",
       "      <td>ῴ</td>\n",
       "      <td>1</td>\n",
       "    </tr>\n",
       "    <tr>\n",
       "      <th>1</th>\n",
       "      <td>ῇ</td>\n",
       "      <td>1</td>\n",
       "    </tr>\n",
       "    <tr>\n",
       "      <th>2</th>\n",
       "      <td>ὲ</td>\n",
       "      <td>1</td>\n",
       "    </tr>\n",
       "    <tr>\n",
       "      <th>3</th>\n",
       "      <td>ῳ</td>\n",
       "      <td>1</td>\n",
       "    </tr>\n",
       "    <tr>\n",
       "      <th>4</th>\n",
       "      <td>ὤ</td>\n",
       "      <td>1</td>\n",
       "    </tr>\n",
       "  </tbody>\n",
       "</table>\n",
       "</div>"
      ],
      "text/plain": [
       "  Character  Frequency\n",
       "0         ῴ          1\n",
       "1         ῇ          1\n",
       "2         ὲ          1\n",
       "3         ῳ          1\n",
       "4         ὤ          1"
      ]
     },
     "metadata": {},
     "output_type": "display_data"
    },
    {
     "data": {
      "text/html": [
       "<div>\n",
       "<style scoped>\n",
       "    .dataframe tbody tr th:only-of-type {\n",
       "        vertical-align: middle;\n",
       "    }\n",
       "\n",
       "    .dataframe tbody tr th {\n",
       "        vertical-align: top;\n",
       "    }\n",
       "\n",
       "    .dataframe thead th {\n",
       "        text-align: right;\n",
       "    }\n",
       "</style>\n",
       "<table border=\"1\" class=\"dataframe\">\n",
       "  <thead>\n",
       "    <tr style=\"text-align: right;\">\n",
       "      <th></th>\n",
       "      <th>Character</th>\n",
       "      <th>Frequency</th>\n",
       "    </tr>\n",
       "  </thead>\n",
       "  <tbody>\n",
       "    <tr>\n",
       "      <th>65</th>\n",
       "      <td>ε</td>\n",
       "      <td>209</td>\n",
       "    </tr>\n",
       "    <tr>\n",
       "      <th>66</th>\n",
       "      <td>ν</td>\n",
       "      <td>273</td>\n",
       "    </tr>\n",
       "    <tr>\n",
       "      <th>67</th>\n",
       "      <td>α</td>\n",
       "      <td>282</td>\n",
       "    </tr>\n",
       "    <tr>\n",
       "      <th>68</th>\n",
       "      <td>τ</td>\n",
       "      <td>288</td>\n",
       "    </tr>\n",
       "    <tr>\n",
       "      <th>69</th>\n",
       "      <td></td>\n",
       "      <td>740</td>\n",
       "    </tr>\n",
       "  </tbody>\n",
       "</table>\n",
       "</div>"
      ],
      "text/plain": [
       "   Character  Frequency\n",
       "65         ε        209\n",
       "66         ν        273\n",
       "67         α        282\n",
       "68         τ        288\n",
       "69                  740"
      ]
     },
     "metadata": {},
     "output_type": "display_data"
    }
   ],
   "source": [
    "greek=pd.DataFrame(data = {'Character': list(freqG.keys()),'Frequency': list(freqG.values())}).sort_values(by='Frequency').reset_index().drop(columns='index')\n",
    "display(greek.head(),greek.tail())"
   ]
  },
  {
   "cell_type": "code",
   "execution_count": 9,
   "metadata": {},
   "outputs": [
    {
     "name": "stdout",
     "output_type": "stream",
     "text": [
      "Total character frequency found in English 3978\n",
      "Total character frequency found in Spanish 3754\n",
      "Total character frequency found in Greek 4062\n"
     ]
    }
   ],
   "source": [
    "total_char_freqE=sum(english.Frequency)\n",
    "print(\"Total character frequency found in English\",total_char_freqE)\n",
    "total_char_freqS=sum(spanish.Frequency)\n",
    "print(\"Total character frequency found in Spanish\",total_char_freqS)\n",
    "total_char_freqG=sum(greek.Frequency)\n",
    "print(\"Total character frequency found in Greek\",total_char_freqG)"
   ]
  },
  {
   "cell_type": "code",
   "execution_count": 10,
   "metadata": {},
   "outputs": [
    {
     "name": "stdout",
     "output_type": "stream",
     "text": [
      "Total number of characters found in English (linespace counts as a regular space) 44\n",
      "Total number of characters found in Spanish (linespace counts as a regular space) 48\n",
      "Total number of characters found in Greek (linespace counts as a regular space) 70\n"
     ]
    }
   ],
   "source": [
    "total_charE=english.Character.count()\n",
    "print(\"Total number of characters found in English (linespace counts as a regular space)\", total_charE)\n",
    "total_charS=spanish.Character.count()\n",
    "print(\"Total number of characters found in Spanish (linespace counts as a regular space)\", total_charS)\n",
    "total_charG=greek.Character.count()\n",
    "print(\"Total number of characters found in Greek (linespace counts as a regular space)\", total_charG)"
   ]
  },
  {
   "cell_type": "markdown",
   "metadata": {},
   "source": [
    "##### 3. Calculating the encoding (Huffman Tree) <a class=\"anchor\" id=\"huff-tree\"></a>"
   ]
  },
  {
   "cell_type": "code",
   "execution_count": 11,
   "metadata": {},
   "outputs": [],
   "source": [
    "def sorted_tuple(tuple_):\n",
    "    def getKey(item):\n",
    "        return item[1]\n",
    "    return sorted(tuple_, key = getKey)"
   ]
  },
  {
   "cell_type": "code",
   "execution_count": 12,
   "metadata": {},
   "outputs": [],
   "source": [
    "freq_tuplesE = [(key,freq) for key,freq in zip(english.Character.values,english.Frequency.values)]\n",
    "encoding_dictE = {key: '' for key in english.Character.values}\n",
    "freq_tuplesS = [(key,freq) for key,freq in zip(spanish.Character.values,spanish.Frequency.values)]\n",
    "encoding_dictS = {key: '' for key in spanish.Character.values}\n",
    "freq_tuplesG = [(key,freq) for key,freq in zip(greek.Character.values,greek.Frequency.values)]\n",
    "encoding_dictG = {key: '' for key in greek.Character.values}"
   ]
  },
  {
   "cell_type": "code",
   "execution_count": 13,
   "metadata": {},
   "outputs": [],
   "source": [
    "while True:\n",
    "    new_node = freq_tuplesE[0:2]\n",
    "    # asignar el 0 al sub arbol izquierdo\n",
    "    for char in new_node[0][0]:\n",
    "        encoding_dictE[char] = '0' + encoding_dictE[char]\n",
    "        \n",
    "    # asignar el 1 a los sub arbol derecho\n",
    "    for char in new_node[1][0]:\n",
    "        encoding_dictE[char] = '1' + encoding_dictE[char]\n",
    "    \n",
    "    \n",
    "    new_node = (new_node[0][0]+new_node[1][0], new_node[0][1]+new_node[1][1])\n",
    "    freq_tuplesE = freq_tuplesE[2:]\n",
    "    freq_tuplesE.append(new_node)\n",
    "    freq_tuplesE = sorted_tuple(freq_tuplesE)\n",
    "    if len(freq_tuplesE) == 1:\n",
    "        break"
   ]
  },
  {
   "cell_type": "code",
   "execution_count": 14,
   "metadata": {},
   "outputs": [
    {
     "name": "stdout",
     "output_type": "stream",
     "text": [
      "{'x': '101011011000', ']': '101011011001', '[': '101011011010', 'H': '101011011011', 'R': '01110110000', 'N': '01110110001', ';': '10101011110', '-': '10101011111', 'B': '0111011001', ':': '0111011010', 'I': '0111011011', 'S': '1010101110', 'T': '1010110111', 'L': '101010110', '—': '101011010', '”': '01110111', '“': '10101010', 'p': '10101100', 'A': '0111010', 'b': '1010000', 'G': '1010001', 'k': '1010100', 'y': '1010111', 'f': '1110000', ',': '1110001', '.': '1111100', 'm': '1111101', 'u': '011100', 'c': '011110', 'v': '011111', 'w': '101001', 'g': '111001', 'l': '111111', 's': '11010', 'o': '11011', 'r': '11101', 'i': '11110', 'h': '0110', 'n': '1000', 'd': '1001', 'a': '1011', 't': '1100', 'e': '010', ' ': '00'}\n"
     ]
    }
   ],
   "source": [
    "print(encoding_dictE)"
   ]
  },
  {
   "cell_type": "code",
   "execution_count": 15,
   "metadata": {},
   "outputs": [],
   "source": [
    "while True:\n",
    "    new_node = freq_tuplesS[0:2]\n",
    "    # asignar el 0 al sub arbol izquierdo\n",
    "    for char in new_node[0][0]:\n",
    "        encoding_dictS[char] = '0' + encoding_dictS[char]\n",
    "        \n",
    "    # asignar el 1 a los sub arbol derecho\n",
    "    for char in new_node[1][0]:\n",
    "        encoding_dictS[char] = '1' + encoding_dictS[char]\n",
    "    \n",
    "    \n",
    "    new_node = (new_node[0][0]+new_node[1][0], new_node[0][1]+new_node[1][1])\n",
    "    freq_tuplesS = freq_tuplesS[2:]\n",
    "    freq_tuplesS.append(new_node)\n",
    "    freq_tuplesS = sorted_tuple(freq_tuplesS)\n",
    "    if len(freq_tuplesS) == 1:\n",
    "        break"
   ]
  },
  {
   "cell_type": "code",
   "execution_count": 16,
   "metadata": {},
   "outputs": [
    {
     "name": "stdout",
     "output_type": "stream",
     "text": [
      "{'M': '110101010110', 'T': '110101010111', 'J': '111000001000', 'C': '111000001001', 'N': '111000001010', 'S': '111000001011', 'F': '11010101010', 'L': '1010111000', 'H': '1010111001', 'P': '1101010100', 'E': '1110000011', 'á': '101011101', 'x': '110101011', ';': '111000000', ':': '111001110', 'ú': '111001111', 'ñ': '10100100', 'é': '10100101', 'j': '10101111', 'z': '11010100', 'h': '11100001', 'f': '11100110', 'ó': '11101100', 'í': '11101101', 'v': '1010011', 'Y': '1010110', 'q': '1101000', 'D': '1101001', 'g': '1101011', '.': '1110001', 'p': '1110010', 'c': '1110111', ',': '100110', 'y': '100111', 'm': '101000', 'b': '101010', 't': '111010', 'd': '10010', 'u': '11000', 'n': '11001', 'i': '11011', 'r': '0100', 'o': '0101', 'l': '1000', 's': '1011', 'e': '1111', 'a': '011', ' ': '00'}\n"
     ]
    }
   ],
   "source": [
    "print(encoding_dictS)"
   ]
  },
  {
   "cell_type": "code",
   "execution_count": 17,
   "metadata": {},
   "outputs": [],
   "source": [
    "while True:\n",
    "    new_node = freq_tuplesG[0:2]\n",
    "    # asignar el 0 al sub arbol izquierdo\n",
    "    for char in new_node[0][0]:\n",
    "        encoding_dictG[char] = '0' + encoding_dictG[char]\n",
    "        \n",
    "    # asignar el 1 a los sub arbol derecho\n",
    "    for char in new_node[1][0]:\n",
    "        encoding_dictG[char] = '1' + encoding_dictG[char]\n",
    "    \n",
    "    \n",
    "    new_node = (new_node[0][0]+new_node[1][0], new_node[0][1]+new_node[1][1])\n",
    "    freq_tuplesG = freq_tuplesG[2:]\n",
    "    freq_tuplesG.append(new_node)\n",
    "    freq_tuplesG = sorted_tuple(freq_tuplesG)\n",
    "    if len(freq_tuplesG) == 1:\n",
    "        break"
   ]
  },
  {
   "cell_type": "code",
   "execution_count": 18,
   "metadata": {},
   "outputs": [
    {
     "name": "stdout",
     "output_type": "stream",
     "text": [
      "{'ῴ': '101100100010', 'ῇ': '101100100011', 'ὲ': '101100100100', 'ῳ': '101100100101', 'ὤ': '101100100110', 'ἃ': '101100100111', 'ὀ': '111111000110', 'ἕ': '111111000111', 'ἦ': '01101111110', 'ὥ': '01101111111', 'ὗ': '10110010000', 'ὃ': '11111100010', 'ψ': '0110111110', 'ἄ': '1111011000', '’': '1111011001', 'β': '1111011110', 'ὑ': '1111011111', 'ᾶ': '1111110000', 'ζ': '011011100', 'ἔ': '011011101', 'ὴ': '011011110', 'ὅ': '101100101', 'ῷ': '101111000', 'ώ': '101111001', 'ὺ': '101111010', 'ῖ': '101111011', 'ή': '111101101', 'ξ': '111101110', 'ύ': '111111001', 'ἀ': '10001110', 'ἶ': '10001111', 'ἑ': '10110000', 'φ': '10110001', 'ἡ': '10110011', 'ὕ': '10111010', 'ἰ': '10111011', 'υ': '11111101', 'χ': '0101100', 'ὐ': '0101101', 'ί': '0110110', 'ῶ': '1000000', 'δ': '1000001', 'ὁ': '1000110', 'λ': '1011100', 'ό': '1011111', 'ῦ': '1111000', 'ά': '1111001', 'ὰ': '1111010', 'η': '1111100', 'ὸ': '1111101', 'ι': '1111111', 'ῆ': '010111', 'μ': '011010', 'θ': '100001', 'ἐ': '100010', 'ω': '101101', 'γ': '110100', 'έ': '110101', 'π': '01010', 'ρ': '01100', 'ὶ': '01110', 'σ': '01111', 'ς': '11011', 'ο': '11100', 'κ': '11101', 'ε': '0100', 'ν': '1001', 'α': '1010', 'τ': '1100', ' ': '00'}\n"
     ]
    }
   ],
   "source": [
    "print(encoding_dictG)"
   ]
  },
  {
   "cell_type": "markdown",
   "metadata": {},
   "source": [
    "##### 4. Creating columns of found encoding, its character length and total character length  <a class=\"anchor\" id=\"encoding-len\"></a>"
   ]
  },
  {
   "cell_type": "code",
   "execution_count": 19,
   "metadata": {},
   "outputs": [],
   "source": [
    "english['Encoding']=encoding_dictE.values()\n",
    "english['Length']=english.Encoding.str.len()\n",
    "english['Total_Length']=english.Length*english.Frequency\n",
    "\n",
    "spanish['Encoding']=encoding_dictS.values()\n",
    "spanish['Length']=spanish.Encoding.str.len()\n",
    "spanish['Total_Length']=spanish.Length*spanish.Frequency\n",
    "\n",
    "greek['Encoding']=encoding_dictG.values()\n",
    "greek['Length']=greek.Encoding.str.len()\n",
    "greek['Total_Length']=greek.Length*greek.Frequency"
   ]
  },
  {
   "cell_type": "code",
   "execution_count": 20,
   "metadata": {},
   "outputs": [
    {
     "data": {
      "text/html": [
       "<div>\n",
       "<style scoped>\n",
       "    .dataframe tbody tr th:only-of-type {\n",
       "        vertical-align: middle;\n",
       "    }\n",
       "\n",
       "    .dataframe tbody tr th {\n",
       "        vertical-align: top;\n",
       "    }\n",
       "\n",
       "    .dataframe thead th {\n",
       "        text-align: right;\n",
       "    }\n",
       "</style>\n",
       "<table border=\"1\" class=\"dataframe\">\n",
       "  <thead>\n",
       "    <tr style=\"text-align: right;\">\n",
       "      <th></th>\n",
       "      <th>Character</th>\n",
       "      <th>Frequency</th>\n",
       "      <th>Encoding</th>\n",
       "      <th>Length</th>\n",
       "      <th>Total_Length</th>\n",
       "    </tr>\n",
       "  </thead>\n",
       "  <tbody>\n",
       "    <tr>\n",
       "      <th>0</th>\n",
       "      <td>x</td>\n",
       "      <td>1</td>\n",
       "      <td>101011011000</td>\n",
       "      <td>12</td>\n",
       "      <td>12</td>\n",
       "    </tr>\n",
       "    <tr>\n",
       "      <th>1</th>\n",
       "      <td>]</td>\n",
       "      <td>1</td>\n",
       "      <td>101011011001</td>\n",
       "      <td>12</td>\n",
       "      <td>12</td>\n",
       "    </tr>\n",
       "    <tr>\n",
       "      <th>2</th>\n",
       "      <td>[</td>\n",
       "      <td>1</td>\n",
       "      <td>101011011010</td>\n",
       "      <td>12</td>\n",
       "      <td>12</td>\n",
       "    </tr>\n",
       "    <tr>\n",
       "      <th>3</th>\n",
       "      <td>H</td>\n",
       "      <td>1</td>\n",
       "      <td>101011011011</td>\n",
       "      <td>12</td>\n",
       "      <td>12</td>\n",
       "    </tr>\n",
       "    <tr>\n",
       "      <th>4</th>\n",
       "      <td>R</td>\n",
       "      <td>1</td>\n",
       "      <td>01110110000</td>\n",
       "      <td>11</td>\n",
       "      <td>11</td>\n",
       "    </tr>\n",
       "  </tbody>\n",
       "</table>\n",
       "</div>"
      ],
      "text/plain": [
       "  Character  Frequency      Encoding  Length  Total_Length\n",
       "0         x          1  101011011000      12            12\n",
       "1         ]          1  101011011001      12            12\n",
       "2         [          1  101011011010      12            12\n",
       "3         H          1  101011011011      12            12\n",
       "4         R          1   01110110000      11            11"
      ]
     },
     "metadata": {},
     "output_type": "display_data"
    },
    {
     "data": {
      "text/html": [
       "<div>\n",
       "<style scoped>\n",
       "    .dataframe tbody tr th:only-of-type {\n",
       "        vertical-align: middle;\n",
       "    }\n",
       "\n",
       "    .dataframe tbody tr th {\n",
       "        vertical-align: top;\n",
       "    }\n",
       "\n",
       "    .dataframe thead th {\n",
       "        text-align: right;\n",
       "    }\n",
       "</style>\n",
       "<table border=\"1\" class=\"dataframe\">\n",
       "  <thead>\n",
       "    <tr style=\"text-align: right;\">\n",
       "      <th></th>\n",
       "      <th>Character</th>\n",
       "      <th>Frequency</th>\n",
       "      <th>Encoding</th>\n",
       "      <th>Length</th>\n",
       "      <th>Total_Length</th>\n",
       "    </tr>\n",
       "  </thead>\n",
       "  <tbody>\n",
       "    <tr>\n",
       "      <th>0</th>\n",
       "      <td>M</td>\n",
       "      <td>1</td>\n",
       "      <td>110101010110</td>\n",
       "      <td>12</td>\n",
       "      <td>12</td>\n",
       "    </tr>\n",
       "    <tr>\n",
       "      <th>1</th>\n",
       "      <td>T</td>\n",
       "      <td>1</td>\n",
       "      <td>110101010111</td>\n",
       "      <td>12</td>\n",
       "      <td>12</td>\n",
       "    </tr>\n",
       "    <tr>\n",
       "      <th>2</th>\n",
       "      <td>J</td>\n",
       "      <td>1</td>\n",
       "      <td>111000001000</td>\n",
       "      <td>12</td>\n",
       "      <td>12</td>\n",
       "    </tr>\n",
       "    <tr>\n",
       "      <th>3</th>\n",
       "      <td>C</td>\n",
       "      <td>1</td>\n",
       "      <td>111000001001</td>\n",
       "      <td>12</td>\n",
       "      <td>12</td>\n",
       "    </tr>\n",
       "    <tr>\n",
       "      <th>4</th>\n",
       "      <td>N</td>\n",
       "      <td>1</td>\n",
       "      <td>111000001010</td>\n",
       "      <td>12</td>\n",
       "      <td>12</td>\n",
       "    </tr>\n",
       "  </tbody>\n",
       "</table>\n",
       "</div>"
      ],
      "text/plain": [
       "  Character  Frequency      Encoding  Length  Total_Length\n",
       "0         M          1  110101010110      12            12\n",
       "1         T          1  110101010111      12            12\n",
       "2         J          1  111000001000      12            12\n",
       "3         C          1  111000001001      12            12\n",
       "4         N          1  111000001010      12            12"
      ]
     },
     "metadata": {},
     "output_type": "display_data"
    },
    {
     "data": {
      "text/html": [
       "<div>\n",
       "<style scoped>\n",
       "    .dataframe tbody tr th:only-of-type {\n",
       "        vertical-align: middle;\n",
       "    }\n",
       "\n",
       "    .dataframe tbody tr th {\n",
       "        vertical-align: top;\n",
       "    }\n",
       "\n",
       "    .dataframe thead th {\n",
       "        text-align: right;\n",
       "    }\n",
       "</style>\n",
       "<table border=\"1\" class=\"dataframe\">\n",
       "  <thead>\n",
       "    <tr style=\"text-align: right;\">\n",
       "      <th></th>\n",
       "      <th>Character</th>\n",
       "      <th>Frequency</th>\n",
       "      <th>Encoding</th>\n",
       "      <th>Length</th>\n",
       "      <th>Total_Length</th>\n",
       "    </tr>\n",
       "  </thead>\n",
       "  <tbody>\n",
       "    <tr>\n",
       "      <th>0</th>\n",
       "      <td>ῴ</td>\n",
       "      <td>1</td>\n",
       "      <td>101100100010</td>\n",
       "      <td>12</td>\n",
       "      <td>12</td>\n",
       "    </tr>\n",
       "    <tr>\n",
       "      <th>1</th>\n",
       "      <td>ῇ</td>\n",
       "      <td>1</td>\n",
       "      <td>101100100011</td>\n",
       "      <td>12</td>\n",
       "      <td>12</td>\n",
       "    </tr>\n",
       "    <tr>\n",
       "      <th>2</th>\n",
       "      <td>ὲ</td>\n",
       "      <td>1</td>\n",
       "      <td>101100100100</td>\n",
       "      <td>12</td>\n",
       "      <td>12</td>\n",
       "    </tr>\n",
       "    <tr>\n",
       "      <th>3</th>\n",
       "      <td>ῳ</td>\n",
       "      <td>1</td>\n",
       "      <td>101100100101</td>\n",
       "      <td>12</td>\n",
       "      <td>12</td>\n",
       "    </tr>\n",
       "    <tr>\n",
       "      <th>4</th>\n",
       "      <td>ὤ</td>\n",
       "      <td>1</td>\n",
       "      <td>101100100110</td>\n",
       "      <td>12</td>\n",
       "      <td>12</td>\n",
       "    </tr>\n",
       "    <tr>\n",
       "      <th>...</th>\n",
       "      <td>...</td>\n",
       "      <td>...</td>\n",
       "      <td>...</td>\n",
       "      <td>...</td>\n",
       "      <td>...</td>\n",
       "    </tr>\n",
       "    <tr>\n",
       "      <th>65</th>\n",
       "      <td>ε</td>\n",
       "      <td>209</td>\n",
       "      <td>0100</td>\n",
       "      <td>4</td>\n",
       "      <td>836</td>\n",
       "    </tr>\n",
       "    <tr>\n",
       "      <th>66</th>\n",
       "      <td>ν</td>\n",
       "      <td>273</td>\n",
       "      <td>1001</td>\n",
       "      <td>4</td>\n",
       "      <td>1092</td>\n",
       "    </tr>\n",
       "    <tr>\n",
       "      <th>67</th>\n",
       "      <td>α</td>\n",
       "      <td>282</td>\n",
       "      <td>1010</td>\n",
       "      <td>4</td>\n",
       "      <td>1128</td>\n",
       "    </tr>\n",
       "    <tr>\n",
       "      <th>68</th>\n",
       "      <td>τ</td>\n",
       "      <td>288</td>\n",
       "      <td>1100</td>\n",
       "      <td>4</td>\n",
       "      <td>1152</td>\n",
       "    </tr>\n",
       "    <tr>\n",
       "      <th>69</th>\n",
       "      <td></td>\n",
       "      <td>740</td>\n",
       "      <td>00</td>\n",
       "      <td>2</td>\n",
       "      <td>1480</td>\n",
       "    </tr>\n",
       "  </tbody>\n",
       "</table>\n",
       "<p>70 rows × 5 columns</p>\n",
       "</div>"
      ],
      "text/plain": [
       "   Character  Frequency      Encoding  Length  Total_Length\n",
       "0          ῴ          1  101100100010      12            12\n",
       "1          ῇ          1  101100100011      12            12\n",
       "2          ὲ          1  101100100100      12            12\n",
       "3          ῳ          1  101100100101      12            12\n",
       "4          ὤ          1  101100100110      12            12\n",
       "..       ...        ...           ...     ...           ...\n",
       "65         ε        209          0100       4           836\n",
       "66         ν        273          1001       4          1092\n",
       "67         α        282          1010       4          1128\n",
       "68         τ        288          1100       4          1152\n",
       "69                  740            00       2          1480\n",
       "\n",
       "[70 rows x 5 columns]"
      ]
     },
     "metadata": {},
     "output_type": "display_data"
    }
   ],
   "source": [
    "display(english.head())\n",
    "display(spanish.head())\n",
    "display(greek)"
   ]
  },
  {
   "cell_type": "code",
   "execution_count": 21,
   "metadata": {},
   "outputs": [
    {
     "name": "stdout",
     "output_type": "stream",
     "text": [
      "Total encoding frequency in English:  16980\n",
      "Total encoding frequency in Spanish:  16205\n",
      "Total encoding frequency in Greek:  19704\n"
     ]
    }
   ],
   "source": [
    "total_encoding_freqE=sum(english.Total_Length)\n",
    "print(\"Total encoding frequency in English: \",total_encoding_freqE)\n",
    "total_encoding_freqS=sum(spanish.Total_Length)\n",
    "print(\"Total encoding frequency in Spanish: \",total_encoding_freqS)\n",
    "total_encoding_freqG=sum(greek.Total_Length)\n",
    "print(\"Total encoding frequency in Greek: \",total_encoding_freqG)"
   ]
  },
  {
   "cell_type": "markdown",
   "metadata": {},
   "source": [
    "##### 5. \"Compressing\"  <a class=\"anchor\" id=\"compress\"></a>"
   ]
  },
  {
   "cell_type": "code",
   "execution_count": 22,
   "metadata": {},
   "outputs": [
    {
     "name": "stdout",
     "output_type": "stream",
     "text": [
      "{'x': '101011011000', ']': '101011011001', '[': '101011011010', 'H': '101011011011', 'R': '01110110000', 'N': '01110110001', ';': '10101011110', '-': '10101011111', 'B': '0111011001', ':': '0111011010', 'I': '0111011011', 'S': '1010101110', 'T': '1010110111', 'L': '101010110', '—': '101011010', '”': '01110111', '“': '10101010', 'p': '10101100', 'A': '0111010', 'b': '1010000', 'G': '1010001', 'k': '1010100', 'y': '1010111', 'f': '1110000', ',': '1110001', '.': '1111100', 'm': '1111101', 'u': '011100', 'c': '011110', 'v': '011111', 'w': '101001', 'g': '111001', 'l': '111111', 's': '11010', 'o': '11011', 'r': '11101', 'i': '11110', 'h': '0110', 'n': '1000', 'd': '1001', 'a': '1011', 't': '1100', 'e': '010', ' ': '00'}\n",
      "{'M': '110101010110', 'T': '110101010111', 'J': '111000001000', 'C': '111000001001', 'N': '111000001010', 'S': '111000001011', 'F': '11010101010', 'L': '1010111000', 'H': '1010111001', 'P': '1101010100', 'E': '1110000011', 'á': '101011101', 'x': '110101011', ';': '111000000', ':': '111001110', 'ú': '111001111', 'ñ': '10100100', 'é': '10100101', 'j': '10101111', 'z': '11010100', 'h': '11100001', 'f': '11100110', 'ó': '11101100', 'í': '11101101', 'v': '1010011', 'Y': '1010110', 'q': '1101000', 'D': '1101001', 'g': '1101011', '.': '1110001', 'p': '1110010', 'c': '1110111', ',': '100110', 'y': '100111', 'm': '101000', 'b': '101010', 't': '111010', 'd': '10010', 'u': '11000', 'n': '11001', 'i': '11011', 'r': '0100', 'o': '0101', 'l': '1000', 's': '1011', 'e': '1111', 'a': '011', ' ': '00'}\n",
      "{'ῴ': '101100100010', 'ῇ': '101100100011', 'ὲ': '101100100100', 'ῳ': '101100100101', 'ὤ': '101100100110', 'ἃ': '101100100111', 'ὀ': '111111000110', 'ἕ': '111111000111', 'ἦ': '01101111110', 'ὥ': '01101111111', 'ὗ': '10110010000', 'ὃ': '11111100010', 'ψ': '0110111110', 'ἄ': '1111011000', '’': '1111011001', 'β': '1111011110', 'ὑ': '1111011111', 'ᾶ': '1111110000', 'ζ': '011011100', 'ἔ': '011011101', 'ὴ': '011011110', 'ὅ': '101100101', 'ῷ': '101111000', 'ώ': '101111001', 'ὺ': '101111010', 'ῖ': '101111011', 'ή': '111101101', 'ξ': '111101110', 'ύ': '111111001', 'ἀ': '10001110', 'ἶ': '10001111', 'ἑ': '10110000', 'φ': '10110001', 'ἡ': '10110011', 'ὕ': '10111010', 'ἰ': '10111011', 'υ': '11111101', 'χ': '0101100', 'ὐ': '0101101', 'ί': '0110110', 'ῶ': '1000000', 'δ': '1000001', 'ὁ': '1000110', 'λ': '1011100', 'ό': '1011111', 'ῦ': '1111000', 'ά': '1111001', 'ὰ': '1111010', 'η': '1111100', 'ὸ': '1111101', 'ι': '1111111', 'ῆ': '010111', 'μ': '011010', 'θ': '100001', 'ἐ': '100010', 'ω': '101101', 'γ': '110100', 'έ': '110101', 'π': '01010', 'ρ': '01100', 'ὶ': '01110', 'σ': '01111', 'ς': '11011', 'ο': '11100', 'κ': '11101', 'ε': '0100', 'ν': '1001', 'α': '1010', 'τ': '1100', ' ': '00'}\n"
     ]
    }
   ],
   "source": [
    "#hash-ish\n",
    "code_dictE=pd.Series(english.Encoding.values,index=english.Character.values).to_dict()\n",
    "print(code_dictE)\n",
    "code_dictS=pd.Series(spanish.Encoding.values,index=spanish.Character.values).to_dict()\n",
    "print(code_dictS)\n",
    "code_dictG=pd.Series(greek.Encoding.values,index=greek.Character.values).to_dict()\n",
    "print(code_dictG)"
   ]
  },
  {
   "cell_type": "code",
   "execution_count": 23,
   "metadata": {},
   "outputs": [],
   "source": [
    "encoded_textE=originalE\n",
    "encoded2textE=originalE\n",
    "for i in code_dictE:\n",
    "    encoded2textE = encoded2textE.replace(i, code_dictE[i])\n",
    "    encoded_textE = encoded_textE.replace(i, code_dictE[i])\n",
    "\n",
    "encoded_textS=originalS\n",
    "encoded2textS=originalS\n",
    "for i in code_dictS:\n",
    "    encoded2textS = encoded2textS.replace(i, code_dictS[i])\n",
    "    encoded_textS = encoded_textS.replace(i, code_dictS[i])\n",
    "    \n",
    "encoded_textG=originalG\n",
    "encoded2textG=originalG\n",
    "for i in code_dictG:\n",
    "    encoded2textG = encoded2textG.replace(i, code_dictG[i])\n",
    "    encoded_textG = encoded_textG.replace(i, code_dictG[i])"
   ]
  },
  {
   "cell_type": "code",
   "execution_count": 24,
   "metadata": {},
   "outputs": [
    {
     "name": "stdout",
     "output_type": "stream",
     "text": [
      "Character frequency found in compressed English text 16980\n",
      "Character frequency found in compressed English text 16205\n",
      "Character frequency found in compressed English text 19704\n"
     ]
    }
   ],
   "source": [
    "print(\"Character frequency found in compressed English text\",len(encoded_textE))\n",
    "print(\"Character frequency found in compressed English text\",len(encoded_textS))\n",
    "print(\"Character frequency found in compressed English text\",len(encoded_textG))"
   ]
  },
  {
   "cell_type": "code",
   "execution_count": 25,
   "metadata": {},
   "outputs": [],
   "source": [
    "def to_bytes(bits, size=8, pad='0'):\n",
    "    chunks = [bits[n:n+size] for n in range(0, len(bits), size)]\n",
    "    if pad:\n",
    "        chunks[-1] = chunks[-1].ljust(size, pad)\n",
    "    return bytearray([int(c, 2) for c in chunks])"
   ]
  },
  {
   "cell_type": "code",
   "execution_count": 26,
   "metadata": {},
   "outputs": [],
   "source": [
    "byte_arrayE = to_bytes(encoded2textE)\n",
    "byte_arrayS = to_bytes(encoded2textS)\n",
    "byte_arrayG = to_bytes(encoded2textG)"
   ]
  },
  {
   "cell_type": "code",
   "execution_count": 27,
   "metadata": {},
   "outputs": [
    {
     "name": "stdout",
     "output_type": "stream",
     "text": [
      "English Compressed File Size: 2123\n",
      "Spanish Compressed File Size: 2026\n",
      "Greek Compressed File Size: 2463\n"
     ]
    }
   ],
   "source": [
    "print(\"English Compressed File Size:\",len(byte_arrayE))\n",
    "print(\"Spanish Compressed File Size:\",len(byte_arrayS))\n",
    "print(\"Greek Compressed File Size:\",len(byte_arrayG))"
   ]
  },
  {
   "cell_type": "code",
   "execution_count": 28,
   "metadata": {},
   "outputs": [
    {
     "data": {
      "text/plain": [
       "2463"
      ]
     },
     "execution_count": 28,
     "metadata": {},
     "output_type": "execute_result"
    }
   ],
   "source": [
    "newFile = open(\"mean/binaryE.bin\", \"wb\")\n",
    "newFile.write(byte_arrayE)\n",
    "newFile = open(\"mean/binaryS.bin\", \"wb\")\n",
    "newFile.write(byte_arrayS)\n",
    "newFile = open(\"mean/binaryG.bin\", \"wb\")\n",
    "newFile.write(byte_arrayG)"
   ]
  },
  {
   "cell_type": "markdown",
   "metadata": {},
   "source": [
    "##### 6. \"Decompressing\"  <a class=\"anchor\" id=\"decompress\"></a>"
   ]
  },
  {
   "cell_type": "code",
   "execution_count": 29,
   "metadata": {},
   "outputs": [],
   "source": [
    "decoded_textE = ''\n",
    "for i in range(len(originalE)):\n",
    "    for char, code in code_dictE.items():\n",
    "        try:\n",
    "            post = encoded_textE.index(code)\n",
    "            if post == 0:\n",
    "                decoded_textE = decoded_textE + char\n",
    "                encoded_textE = encoded_textE[len(code):]\n",
    "        except:\n",
    "            continue"
   ]
  },
  {
   "cell_type": "code",
   "execution_count": 30,
   "metadata": {},
   "outputs": [],
   "source": [
    "decoded_textS = ''\n",
    "for i in range(len(originalS)):\n",
    "    for char, code in code_dictS.items():\n",
    "        try:\n",
    "            post = encoded_textS.index(code)\n",
    "            if post == 0:\n",
    "                decoded_textS = decoded_textS + char\n",
    "                encoded_textS = encoded_textS[len(code):]\n",
    "        except:\n",
    "            continue"
   ]
  },
  {
   "cell_type": "code",
   "execution_count": 31,
   "metadata": {},
   "outputs": [],
   "source": [
    "decoded_textG = ''\n",
    "for i in range(len(originalG)):\n",
    "    for char, code in code_dictG.items():\n",
    "        try:\n",
    "            post = encoded_textG.index(code)\n",
    "            if post == 0:\n",
    "                decoded_textG = decoded_textG + char\n",
    "                encoded_textG = encoded_textG[len(code):]\n",
    "        except:\n",
    "            continue"
   ]
  },
  {
   "cell_type": "code",
   "execution_count": 32,
   "metadata": {},
   "outputs": [
    {
     "name": "stdout",
     "output_type": "stream",
     "text": [
      "Character frequency found in English decompressed file 3978\n",
      "Character frequency found in Spanish decompressed file 3754\n",
      "Character frequency found in Greek decompressed file 4062\n"
     ]
    }
   ],
   "source": [
    "print(\"Character frequency found in English decompressed file\",len(decoded_textE))\n",
    "print(\"Character frequency found in Spanish decompressed file\",len(decoded_textS))\n",
    "print(\"Character frequency found in Greek decompressed file\",len(decoded_textG))"
   ]
  },
  {
   "cell_type": "code",
   "execution_count": 33,
   "metadata": {},
   "outputs": [
    {
     "name": "stdout",
     "output_type": "stream",
     "text": [
      "Total character frequency found in English 3978\n",
      "Total character frequency found in Spanish 3754\n",
      "Total character frequency found in Greek 4062\n"
     ]
    }
   ],
   "source": [
    "print(\"Total character frequency found in English\",total_char_freqE)\n",
    "print(\"Total character frequency found in Spanish\",total_char_freqS)\n",
    "print(\"Total character frequency found in Greek\",total_char_freqG)"
   ]
  },
  {
   "cell_type": "code",
   "execution_count": null,
   "metadata": {},
   "outputs": [],
   "source": []
  }
 ],
 "metadata": {
  "kernelspec": {
   "display_name": "Python 3",
   "language": "python",
   "name": "python3"
  },
  "language_info": {
   "codemirror_mode": {
    "name": "ipython",
    "version": 3
   },
   "file_extension": ".py",
   "mimetype": "text/x-python",
   "name": "python",
   "nbconvert_exporter": "python",
   "pygments_lexer": "ipython3",
   "version": "3.6.9"
  }
 },
 "nbformat": 4,
 "nbformat_minor": 4
}
